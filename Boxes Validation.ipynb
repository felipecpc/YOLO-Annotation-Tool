{
 "cells": [
  {
   "cell_type": "code",
   "execution_count": null,
   "metadata": {},
   "outputs": [],
   "source": [
    "import cv2\n",
    "import numpy as np\n",
    "import matplotlib.pyplot as plt\n",
    "%matplotlib inline  "
   ]
  },
  {
   "cell_type": "code",
   "execution_count": null,
   "metadata": {},
   "outputs": [],
   "source": [
    "def laoding_files(path,file):\n",
    "    data = {}\n",
    "    with open(path+file) as fp:  \n",
    "        line = fp.readline()\n",
    "        cnt = 1\n",
    "        while line:\n",
    "            l = line.strip().split(\"=\")\n",
    "            data[l[0].strip()]=l[1].strip()\n",
    "            line = fp.readline()\n",
    "            cnt += 1\n",
    "\n",
    "\n",
    "    files = []\n",
    "    with open(path+data[\"train\"]) as fp:  \n",
    "        line = fp.readline()\n",
    "        cnt = 1\n",
    "        while line:\n",
    "            files.append(line.strip())\n",
    "            line = fp.readline()\n",
    "            cnt += 1\n",
    "    \n",
    "    return files\n",
    "  "
   ]
  },
  {
   "cell_type": "code",
   "execution_count": null,
   "metadata": {},
   "outputs": [],
   "source": [
    "def load_boxes(filename):\n",
    "    boxes=[]\n",
    "    with open(filename.split(\".\")[0]+\".txt\") as fp:\n",
    "        line = fp.readline()\n",
    "        cnt = 1\n",
    "        while line:\n",
    "            l = line.strip().split(\" \")\n",
    "            box={\n",
    "                \"class\":l[0],\n",
    "                \"x\":l[1],\n",
    "                \"y\":l[2],\n",
    "                \"width\":l[3],\n",
    "                \"height\":l[4]\n",
    "            }\n",
    "            boxes.append(box)\n",
    "            line = fp.readline()\n",
    "            cnt += 1\n",
    "    return boxes"
   ]
  },
  {
   "cell_type": "code",
   "execution_count": null,
   "metadata": {},
   "outputs": [],
   "source": [
    "def get_rectangles(boxes):\n",
    "    rects = []\n",
    "    for box in boxes:\n",
    "\n",
    "        w=int(float(box['width'])*image.shape[1])\n",
    "        h=int(float(box['height'])*image.shape[0])\n",
    "        x=int(int(float(box['x'])*image.shape[1])-w/2)\n",
    "        y=int(int(float(box['y'])*image.shape[0])-h/2)\n",
    "        r = (x,y,int(x+w),int(y+h))\n",
    "        rects.append(r)\n",
    "    return rects"
   ]
  },
  {
   "cell_type": "code",
   "execution_count": null,
   "metadata": {},
   "outputs": [],
   "source": [
    "#Folder where the .data and .name filers are\n",
    "folder = \"\"\n",
    "#.data file\n",
    "file = \"\"\n",
    "\n",
    "\n",
    "files = laoding_files(folder,file)  \n",
    "\n",
    "\n",
    "index = 1\n",
    "image = cv2.imread(files[index])\n",
    "plt.imshow(cv2.cvtColor(image, cv2.COLOR_BGR2RGB))\n",
    "\n",
    "\n",
    "boxes = load_boxes(files[index])\n",
    "rects = get_rectangles(boxes) \n",
    "        \n",
    "for rect in rects:\n",
    "    cv2.rectangle(image, (rect[0],rect[1]), (rect[2],rect[3]), (0,255,0), 3)\n",
    "\n",
    "\n",
    "plt.imshow(cv2.cvtColor(image, cv2.COLOR_BGR2RGB))"
   ]
  },
  {
   "cell_type": "code",
   "execution_count": null,
   "metadata": {},
   "outputs": [],
   "source": []
  }
 ],
 "metadata": {
  "kernelspec": {
   "display_name": "Python 3",
   "language": "python",
   "name": "python3"
  },
  "language_info": {
   "codemirror_mode": {
    "name": "ipython",
    "version": 3
   },
   "file_extension": ".py",
   "mimetype": "text/x-python",
   "name": "python",
   "nbconvert_exporter": "python",
   "pygments_lexer": "ipython3",
   "version": "3.6.8"
  }
 },
 "nbformat": 4,
 "nbformat_minor": 2
}
